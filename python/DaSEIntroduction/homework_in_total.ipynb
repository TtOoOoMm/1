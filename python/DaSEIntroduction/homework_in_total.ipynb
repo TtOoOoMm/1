{
 "cells": [
  {
   "cell_type": "code",
   "execution_count": 2,
   "metadata": {},
   "outputs": [
    {
     "name": "stdout",
     "output_type": "stream",
     "text": [
      "Hello world\n"
     ]
    }
   ],
   "source": [
    "print('Hello world')"
   ]
  },
  {
   "cell_type": "code",
   "execution_count": 4,
   "metadata": {},
   "outputs": [
    {
     "name": "stdout",
     "output_type": "stream",
     "text": [
      "袁滨10225501427\n"
     ]
    }
   ],
   "source": [
    "print('袁滨10225501427')"
   ]
  },
  {
   "cell_type": "code",
   "execution_count": 1,
   "metadata": {},
   "outputs": [
    {
     "name": "stdout",
     "output_type": "stream",
     "text": [
      "★★★★★★★★★★★\n",
      "★数据科学与工程导论★\n",
      "★★★★★★★★★★★\n"
     ]
    }
   ],
   "source": [
    "print(chr(0x2605) * 11)\n",
    "print(chr(0x2605)+\"数据科学与工程导论\"+chr(0x2605))\n",
    "print(chr(0x2605) * 11)"
   ]
  },
  {
   "cell_type": "code",
   "execution_count": 2,
   "metadata": {},
   "outputs": [
    {
     "name": "stdout",
     "output_type": "stream",
     "text": [
      "1 2 3\n"
     ]
    }
   ],
   "source": [
    "x=int(input(\"请输入第一个数 \"))\n",
    "y=int(input(\"请输入第二个数 \"))\n",
    "z=int(input(\"请输入第三个数 \"))\n",
    "if(x>y):\n",
    "    x,y=y,x\n",
    "if(x>z):\n",
    "    x,z=z,x\n",
    "if(y>z):\n",
    "    y,z=z,y\n",
    "print(x,y,z)"
   ]
  },
  {
   "cell_type": "code",
   "execution_count": 4,
   "metadata": {},
   "outputs": [
    {
     "name": "stdout",
     "output_type": "stream",
     "text": [
      "[1, 2, 3, 4]\n"
     ]
    }
   ],
   "source": [
    "a = []\n",
    "for i in range(1,5):\n",
    "    b = int(input())\n",
    "    a.append(b)\n",
    "a.sort()\n",
    "print(a)"
   ]
  },
  {
   "cell_type": "code",
   "execution_count": 5,
   "metadata": {},
   "outputs": [
    {
     "name": "stdout",
     "output_type": "stream",
     "text": [
      "1\n",
      "3\n",
      "5\n",
      "7\n",
      "9\n",
      "11\n",
      "13\n",
      "15\n",
      "17\n",
      "19\n",
      "21\n",
      "23\n",
      "25\n",
      "27\n",
      "29\n",
      "31\n",
      "33\n",
      "35\n",
      "37\n",
      "39\n",
      "41\n",
      "43\n",
      "45\n",
      "47\n",
      "49\n",
      "51\n",
      "53\n",
      "55\n",
      "57\n",
      "59\n",
      "61\n",
      "63\n",
      "65\n",
      "67\n",
      "69\n",
      "71\n",
      "73\n",
      "75\n",
      "77\n",
      "79\n",
      "81\n",
      "83\n",
      "85\n",
      "87\n",
      "89\n",
      "91\n",
      "93\n",
      "95\n",
      "97\n",
      "99\n"
     ]
    }
   ],
   "source": [
    "for i in range(1,100):\n",
    "    if(i%2==1):\n",
    "        print(i)"
   ]
  },
  {
   "cell_type": "code",
   "execution_count": 6,
   "metadata": {},
   "outputs": [
    {
     "name": "stdout",
     "output_type": "stream",
     "text": [
      "5050\n"
     ]
    }
   ],
   "source": [
    "a = 0\n",
    "for i in range(1,101):\n",
    "    a+=i\n",
    "print(a)"
   ]
  },
  {
   "cell_type": "code",
   "execution_count": 24,
   "metadata": {},
   "outputs": [
    {
     "name": "stdout",
     "output_type": "stream",
     "text": [
      "5 4 3 2 1 "
     ]
    }
   ],
   "source": [
    "x=int(input())\n",
    "a=[]\n",
    "for i in range(x):\n",
    "    a.append(int(input()))\n",
    "for j in range(x):\n",
    "    print(a[x-j-1],end=' ')"
   ]
  },
  {
   "cell_type": "code",
   "execution_count": 31,
   "metadata": {},
   "outputs": [
    {
     "name": "stdout",
     "output_type": "stream",
     "text": [
      "0\n"
     ]
    }
   ],
   "source": [
    "s=input()\n",
    "length=len(s)\n",
    "flag=0\n",
    "for i in range(length-1):\n",
    "    if(s[i]==s[i+1]):\n",
    "        flag=1\n",
    "print(flag)"
   ]
  },
  {
   "cell_type": "code",
   "execution_count": 32,
   "metadata": {},
   "outputs": [
    {
     "name": "stdout",
     "output_type": "stream",
     "text": [
      "qwewerwer\n"
     ]
    }
   ],
   "source": [
    "s=input()\n",
    "print(s.replace(\" \",\"\"))"
   ]
  },
  {
   "cell_type": "code",
   "execution_count": 29,
   "metadata": {},
   "outputs": [
    {
     "name": "stdout",
     "output_type": "stream",
     "text": [
      "3.0\n"
     ]
    }
   ],
   "source": [
    "x=int(input())\n",
    "def tri(n):\n",
    "    return n**(1/3)\n",
    "print(tri(x))"
   ]
  },
  {
   "cell_type": "code",
   "execution_count": 26,
   "metadata": {},
   "outputs": [
    {
     "name": "stdout",
     "output_type": "stream",
     "text": [
      "120\n"
     ]
    }
   ],
   "source": [
    "n=int(input())\n",
    "sum=1\n",
    "for i in range(1,n+1):\n",
    "    sum*=i\n",
    "print(sum)"
   ]
  },
  {
   "cell_type": "code",
   "execution_count": 8,
   "metadata": {},
   "outputs": [
    {
     "name": "stdout",
     "output_type": "stream",
     "text": [
      "516560652\n"
     ]
    }
   ],
   "source": [
    "n = int(input())\n",
    "flag = [0] * (n+1)\n",
    "flag[2] = 1\n",
    "for i in range(3,n+1):\n",
    "    for j in range(1,i-1):\n",
    "        flag[i] = max(flag[i],max((i-j)*j,flag[i-j]*j))\n",
    "print(flag[n])"
   ]
  },
  {
   "cell_type": "code",
   "execution_count": 3,
   "metadata": {},
   "outputs": [
    {
     "name": "stdout",
     "output_type": "stream",
     "text": [
      "1024\n",
      "1048576\n",
      "1073741824\n",
      "1099511627776\n",
      "1125899906842624\n"
     ]
    }
   ],
   "source": [
    "print(2**10)\n",
    "print(2**20)\n",
    "print(2**30)\n",
    "print(2**40)\n",
    "print(2**50)"
   ]
  },
  {
   "cell_type": "code",
   "execution_count": 1,
   "metadata": {},
   "outputs": [
    {
     "name": "stdout",
     "output_type": "stream",
     "text": [
      "1.4142141342163086\n"
     ]
    }
   ],
   "source": [
    "p=1\n",
    "q=2\n",
    "while(q-p>0.000001):\n",
    "    mid = (q + p) / 2\n",
    "    if(mid**2 < 2):\n",
    "        p = mid\n",
    "    else:\n",
    "        q = mid\n",
    "print(mid)#二分法"
   ]
  },
  {
   "cell_type": "code",
   "execution_count": 3,
   "metadata": {},
   "outputs": [
    {
     "name": "stdout",
     "output_type": "stream",
     "text": [
      "1.4142109999659243\n"
     ]
    }
   ],
   "source": [
    "c = 2\n",
    "g = 0\n",
    "for i in range(0, c+1):\n",
    "    if(i**2 > c):\n",
    "        g = i - 1\n",
    "        break\n",
    "while(abs(g**2-2)>0.00001):\n",
    "    g+=0.000001\n",
    "print(g)#笨办法"
   ]
  },
  {
   "cell_type": "code",
   "execution_count": 17,
   "metadata": {},
   "outputs": [
    {
     "name": "stdout",
     "output_type": "stream",
     "text": [
      "1.4142135623746899\n"
     ]
    }
   ],
   "source": [
    "c = 2\n",
    "g = c/2\n",
    "while(abs(g**2-c)>0.000001):\n",
    "    g = (g + c/g)/2\n",
    "print(g)"
   ]
  },
  {
   "cell_type": "code",
   "execution_count": 27,
   "metadata": {},
   "outputs": [
    {
     "name": "stdout",
     "output_type": "stream",
     "text": [
      "2.154434702959439\n"
     ]
    }
   ],
   "source": [
    "c = 10\n",
    "g = 3\n",
    "while(abs(g**3-c)>0.000001):\n",
    "    g = (2*g + c/g**2)*1/3\n",
    "print(g)"
   ]
  },
  {
   "cell_type": "code",
   "execution_count": 2,
   "metadata": {},
   "outputs": [
    {
     "name": "stdout",
     "output_type": "stream",
     "text": [
      "11.811987468324512\n"
     ]
    }
   ],
   "source": [
    "import math\n",
    "import random\n",
    "def f(x):\n",
    "    return x**2+4*x*math.sin(x)\n",
    "n = 1000000\n",
    "s = 0\n",
    "for i in range(n+1):\n",
    "    x = random.uniform(2,3)\n",
    "    s+=f(x)\n",
    "print(s/n)"
   ]
  },
  {
   "cell_type": "code",
   "execution_count": 3,
   "metadata": {},
   "outputs": [
    {
     "name": "stdout",
     "output_type": "stream",
     "text": [
      "3.141144\n"
     ]
    }
   ],
   "source": [
    "import random\n",
    "n = 1000000\n",
    "s = 0\n",
    "for i in range(n+1):\n",
    "    x = random.uniform(-1,1)\n",
    "    y = random.uniform(-1,1)\n",
    "    if(x**2+y**2<=1):\n",
    "        s+=1\n",
    "print(s/n*4)"
   ]
  },
  {
   "cell_type": "code",
   "execution_count": null,
   "metadata": {},
   "outputs": [],
   "source": [
    "x = int(input())\n",
    "if(x < 60):\n",
    "    print(\"不合格\")\n",
    "if(x >= 60 and x <= 74):\n",
    "    print(\"合格\")\n",
    "if(x >= 75 and x <= 89):\n",
    "    print(\"良好\")\n",
    "if(x >= 90):\n",
    "    print(\"优秀\")"
   ]
  },
  {
   "cell_type": "code",
   "execution_count": 1,
   "metadata": {},
   "outputs": [
    {
     "name": "stdout",
     "output_type": "stream",
     "text": [
      "2\n",
      "4\n",
      "6\n",
      "8\n",
      "10\n",
      "12\n",
      "14\n",
      "16\n",
      "18\n",
      "20\n",
      "22\n",
      "24\n",
      "26\n",
      "28\n",
      "30\n",
      "32\n",
      "34\n",
      "36\n",
      "38\n",
      "40\n",
      "42\n",
      "44\n",
      "46\n",
      "48\n",
      "50\n",
      "52\n",
      "54\n",
      "56\n",
      "58\n",
      "60\n",
      "62\n",
      "64\n",
      "66\n",
      "68\n",
      "70\n",
      "72\n",
      "74\n",
      "76\n",
      "78\n",
      "80\n",
      "82\n",
      "84\n",
      "86\n",
      "88\n",
      "90\n",
      "92\n",
      "94\n",
      "96\n",
      "98\n",
      "100\n"
     ]
    }
   ],
   "source": [
    "for i in range(1,101):\n",
    "    if(i % 2 == 0):\n",
    "        print(i)"
   ]
  },
  {
   "cell_type": "code",
   "execution_count": 8,
   "metadata": {},
   "outputs": [
    {
     "name": "stdout",
     "output_type": "stream",
     "text": [
      "111.101\n"
     ]
    }
   ],
   "source": [
    "x = float(input())\n",
    "a = int(x)\n",
    "b = x - a\n",
    "A = bin(a)[2:]\n",
    "B = \"\"\n",
    "while(b > 0):\n",
    "    b *= 2\n",
    "    b0 = int(b)\n",
    "    B += str(b0)\n",
    "    b -= b0\n",
    "print(f\"{A}.{B}\")"
   ]
  },
  {
   "cell_type": "code",
   "execution_count": 9,
   "metadata": {},
   "outputs": [
    {
     "name": "stdout",
     "output_type": "stream",
     "text": [
      "17.69462372297431\n"
     ]
    }
   ],
   "source": [
    "import random\n",
    "x = random.uniform(10.0,20.0)\n",
    "print(x)"
   ]
  },
  {
   "cell_type": "code",
   "execution_count": 11,
   "metadata": {},
   "outputs": [
    {
     "name": "stdout",
     "output_type": "stream",
     "text": [
      "False\n"
     ]
    }
   ],
   "source": [
    "import re\n",
    "x = str(input())\n",
    "pattern = r'^\\d{17}([0~9]|X)$'\n",
    "if(re.match(pattern, x)):\n",
    "    print(\"True\")\n",
    "else:\n",
    "    print(\"False\")\n"
   ]
  },
  {
   "cell_type": "code",
   "execution_count": 12,
   "metadata": {},
   "outputs": [
    {
     "name": "stdout",
     "output_type": "stream",
     "text": [
      "2\n"
     ]
    }
   ],
   "source": [
    "a = int(input())\n",
    "b = int(input())\n",
    "while(b != 0):\n",
    "    a, b = b, a%b\n",
    "print(a)"
   ]
  }
 ],
 "metadata": {
  "kernelspec": {
   "display_name": "Python 3",
   "language": "python",
   "name": "python3"
  },
  "language_info": {
   "codemirror_mode": {
    "name": "ipython",
    "version": 3
   },
   "file_extension": ".py",
   "mimetype": "text/x-python",
   "name": "python",
   "nbconvert_exporter": "python",
   "pygments_lexer": "ipython3",
   "version": "3.11.3"
  },
  "orig_nbformat": 4
 },
 "nbformat": 4,
 "nbformat_minor": 2
}
